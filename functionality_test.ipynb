{
 "cells": [
  {
   "cell_type": "code",
   "execution_count": 2,
   "id": "a42f226a",
   "metadata": {},
   "outputs": [
    {
     "name": "stdout",
     "output_type": "stream",
     "text": [
      "Collecting sklearn\n",
      "  Downloading sklearn-0.0.tar.gz (1.1 kB)\n",
      "Collecting scikit-learn\n",
      "  Downloading scikit_learn-1.0.2-cp39-cp39-win_amd64.whl (7.2 MB)\n",
      "Collecting threadpoolctl>=2.0.0\n",
      "  Downloading threadpoolctl-3.1.0-py3-none-any.whl (14 kB)\n",
      "Note: you may need to restart the kernel to use updated packages.\n"
     ]
    },
    {
     "name": "stderr",
     "output_type": "stream",
     "text": [
      "WARNING: You are using pip version 21.2.4; however, version 22.0.4 is available.\n",
      "You should consider upgrading via the 'C:\\Users\\micha\\AppData\\Local\\Programs\\Python\\Python39\\python.exe -m pip install --upgrade pip' command.\n"
     ]
    },
    {
     "name": "stdout",
     "output_type": "stream",
     "text": [
      "Requirement already satisfied: joblib>=0.11 in c:\\users\\micha\\appdata\\local\\programs\\python\\python39\\lib\\site-packages (from scikit-learn->sklearn) (1.0.1)\n",
      "Requirement already satisfied: scipy>=1.1.0 in c:\\users\\micha\\appdata\\local\\programs\\python\\python39\\lib\\site-packages (from scikit-learn->sklearn) (1.8.0)\n",
      "Requirement already satisfied: numpy>=1.14.6 in c:\\users\\micha\\appdata\\local\\programs\\python\\python39\\lib\\site-packages (from scikit-learn->sklearn) (1.22.3)\n",
      "Using legacy 'setup.py install' for sklearn, since package 'wheel' is not installed.\n",
      "Installing collected packages: threadpoolctl, scikit-learn, sklearn\n",
      "    Running setup.py install for sklearn: started\n",
      "    Running setup.py install for sklearn: finished with status 'done'\n",
      "Successfully installed scikit-learn-1.0.2 sklearn-0.0 threadpoolctl-3.1.0\n"
     ]
    }
   ],
   "source": [
    "pip install sklearn"
   ]
  },
  {
   "cell_type": "code",
   "execution_count": 3,
   "id": "b71dbee2",
   "metadata": {},
   "outputs": [],
   "source": [
    "from pandas_profiling import ProfileReport\n",
    "from sklearn.impute import KNNImputer"
   ]
  },
  {
   "cell_type": "code",
   "execution_count": 2,
   "id": "da957065",
   "metadata": {},
   "outputs": [],
   "source": [
    "import pandas_profiling\n",
    "import pandas as pd\n",
    "import matplotlib.pyplot as plt"
   ]
  },
  {
   "cell_type": "code",
   "execution_count": 5,
   "id": "fd54769d",
   "metadata": {},
   "outputs": [],
   "source": [
    "data = pd.read_csv(\"C:/Users/micha/OneDrive/Documents/RGU/Project/Coding/meets.csv\")"
   ]
  },
  {
   "cell_type": "code",
   "execution_count": 6,
   "id": "50ec077e",
   "metadata": {},
   "outputs": [
    {
     "name": "stdout",
     "output_type": "stream",
     "text": [
      "<class 'pandas.core.frame.DataFrame'>\n",
      "RangeIndex: 8482 entries, 0 to 8481\n",
      "Data columns (total 8 columns):\n",
      " #   Column       Non-Null Count  Dtype \n",
      "---  ------       --------------  ----- \n",
      " 0   MeetID       8482 non-null   int64 \n",
      " 1   MeetPath     8482 non-null   object\n",
      " 2   Federation   8482 non-null   object\n",
      " 3   Date         8482 non-null   object\n",
      " 4   MeetCountry  8482 non-null   object\n",
      " 5   MeetState    5496 non-null   object\n",
      " 6   MeetTown     6973 non-null   object\n",
      " 7   MeetName     8482 non-null   object\n",
      "dtypes: int64(1), object(7)\n",
      "memory usage: 530.2+ KB\n"
     ]
    }
   ],
   "source": [
    "data.info()"
   ]
  },
  {
   "cell_type": "code",
   "execution_count": 3,
   "id": "73f90f84",
   "metadata": {},
   "outputs": [],
   "source": [
    "data_s = pd.read_csv(\"C:/Users/micha/OneDrive/Documents/RGU/Project/Coding/meets_edited.csv\")"
   ]
  },
  {
   "cell_type": "code",
   "execution_count": null,
   "id": "b35aeea7",
   "metadata": {},
   "outputs": [],
   "source": [
    "profile = ProfileReport(data_s)\n",
    "profile"
   ]
  },
  {
   "cell_type": "code",
   "execution_count": 8,
   "id": "190e7df9",
   "metadata": {},
   "outputs": [],
   "source": [
    "data_s = data_s.convert_dtypes()"
   ]
  },
  {
   "cell_type": "code",
   "execution_count": 10,
   "id": "c45d81b0",
   "metadata": {},
   "outputs": [
    {
     "name": "stdout",
     "output_type": "stream",
     "text": [
      "<class 'pandas.core.frame.DataFrame'>\n",
      "RangeIndex: 8482 entries, 0 to 8481\n",
      "Data columns (total 9 columns):\n",
      " #   Column       Non-Null Count  Dtype \n",
      "---  ------       --------------  ----- \n",
      " 0   MeetID       7364 non-null   Int64 \n",
      " 1   MeetPath     8482 non-null   string\n",
      " 2   Federation   8482 non-null   string\n",
      " 3   Date         8482 non-null   string\n",
      " 4   MeetCountry  8482 non-null   string\n",
      " 5   MeetState    5496 non-null   string\n",
      " 6   MeetTown     6973 non-null   string\n",
      " 7   MeetName     8482 non-null   string\n",
      " 8   RandomNums   6652 non-null   Int64 \n",
      "dtypes: Int64(2), string(7)\n",
      "memory usage: 613.1 KB\n"
     ]
    }
   ],
   "source": [
    "data_s.info()"
   ]
  },
  {
   "cell_type": "code",
   "execution_count": null,
   "id": "2047b4af",
   "metadata": {},
   "outputs": [],
   "source": [
    "missing_values = data[\"city\"].isnull().sum()"
   ]
  },
  {
   "cell_type": "markdown",
   "id": "1f258118",
   "metadata": {},
   "source": [
    "Data Types"
   ]
  },
  {
   "cell_type": "code",
   "execution_count": 11,
   "id": "e2feecc0",
   "metadata": {},
   "outputs": [
    {
     "data": {
      "text/plain": [
       "0       <class 'str'>\n",
       "1       <class 'str'>\n",
       "2       <class 'str'>\n",
       "3       <class 'str'>\n",
       "4       <class 'str'>\n",
       "            ...      \n",
       "8477    <class 'str'>\n",
       "8478    <class 'str'>\n",
       "8479    <class 'str'>\n",
       "8480    <class 'str'>\n",
       "8481    <class 'str'>\n",
       "Name: MeetPath, Length: 8482, dtype: object"
      ]
     },
     "execution_count": 11,
     "metadata": {},
     "output_type": "execute_result"
    }
   ],
   "source": [
    "data_s[\"MeetPath\"].apply(type)"
   ]
  },
  {
   "cell_type": "code",
   "execution_count": 19,
   "id": "3f24f118",
   "metadata": {},
   "outputs": [
    {
     "name": "stdout",
     "output_type": "stream",
     "text": [
      "datatype is [<class 'int'>]\n"
     ]
    },
    {
     "ename": "AttributeError",
     "evalue": "'list' object has no attribute 'dtype'",
     "output_type": "error",
     "traceback": [
      "\u001b[1;31m---------------------------------------------------------------------------\u001b[0m",
      "\u001b[1;31mAttributeError\u001b[0m                            Traceback (most recent call last)",
      "\u001b[1;32mc:\\Users\\micha\\OneDrive\\Documents\\RGU\\Project\\Coding\\Data-Quality-Project\\functionality_test.ipynb Cell 14'\u001b[0m in \u001b[0;36m<cell line: 3>\u001b[1;34m()\u001b[0m\n\u001b[0;32m      <a href='vscode-notebook-cell:/c%3A/Users/micha/OneDrive/Documents/RGU/Project/Coding/Data-Quality-Project/functionality_test.ipynb#ch0000015?line=0'>1</a>\u001b[0m check \u001b[39m=\u001b[39m \u001b[39mlist\u001b[39m(data_s[\u001b[39m'\u001b[39m\u001b[39mday\u001b[39m\u001b[39m'\u001b[39m]\u001b[39m.\u001b[39mmap(\u001b[39mtype\u001b[39m)\u001b[39m.\u001b[39munique())\n\u001b[0;32m      <a href='vscode-notebook-cell:/c%3A/Users/micha/OneDrive/Documents/RGU/Project/Coding/Data-Quality-Project/functionality_test.ipynb#ch0000015?line=1'>2</a>\u001b[0m \u001b[39mprint\u001b[39m(\u001b[39m'\u001b[39m\u001b[39mdatatype is \u001b[39m\u001b[39m'\u001b[39m \u001b[39m+\u001b[39m \u001b[39mstr\u001b[39m(check))\n\u001b[1;32m----> <a href='vscode-notebook-cell:/c%3A/Users/micha/OneDrive/Documents/RGU/Project/Coding/Data-Quality-Project/functionality_test.ipynb#ch0000015?line=2'>3</a>\u001b[0m \u001b[39mprint\u001b[39m(check\u001b[39m.\u001b[39;49mdtype)\n",
      "\u001b[1;31mAttributeError\u001b[0m: 'list' object has no attribute 'dtype'"
     ]
    }
   ],
   "source": [
    "check = list(data_s['day'].map(type).unique())\n",
    "print('datatype is ' + str(check))\n",
    "print(check.apply(type))"
   ]
  },
  {
   "cell_type": "code",
   "execution_count": 20,
   "id": "8530e4f6",
   "metadata": {},
   "outputs": [
    {
     "data": {
      "text/plain": [
       "0      <class 'int'>\n",
       "1      <class 'int'>\n",
       "2      <class 'int'>\n",
       "3      <class 'int'>\n",
       "4      <class 'int'>\n",
       "           ...      \n",
       "725    <class 'int'>\n",
       "726    <class 'int'>\n",
       "727    <class 'int'>\n",
       "728    <class 'int'>\n",
       "729    <class 'int'>\n",
       "Name: day, Length: 730, dtype: object"
      ]
     },
     "execution_count": 20,
     "metadata": {},
     "output_type": "execute_result"
    }
   ],
   "source": [
    "data_s['day'].map(type)"
   ]
  },
  {
   "cell_type": "code",
   "execution_count": null,
   "id": "06d93885",
   "metadata": {},
   "outputs": [],
   "source": [
    "a = []\n",
    "\n",
    "for element in list(data_s['day']):\n",
    "\n",
    "    if isinstance(element, int):\n",
    "        a.append('int')\n",
    "\n",
    "a"
   ]
  },
  {
   "cell_type": "code",
   "execution_count": 13,
   "id": "65b1d76d",
   "metadata": {},
   "outputs": [
    {
     "name": "stdout",
     "output_type": "stream",
     "text": [
      "<class 'pandas.core.frame.DataFrame'>\n",
      "RangeIndex: 8482 entries, 0 to 8481\n",
      "Data columns (total 8 columns):\n",
      " #   Column       Non-Null Count  Dtype \n",
      "---  ------       --------------  ----- \n",
      " 0   MeetID       8482 non-null   int64 \n",
      " 1   MeetPath     8482 non-null   object\n",
      " 2   Federation   8482 non-null   object\n",
      " 3   Date         8482 non-null   object\n",
      " 4   MeetCountry  8482 non-null   object\n",
      " 5   MeetState    5496 non-null   object\n",
      " 6   MeetTown     6973 non-null   object\n",
      " 7   MeetName     8482 non-null   object\n",
      "dtypes: int64(1), object(7)\n",
      "memory usage: 530.2+ KB\n"
     ]
    }
   ],
   "source": [
    "data.info()"
   ]
  },
  {
   "cell_type": "code",
   "execution_count": 10,
   "id": "69719355",
   "metadata": {},
   "outputs": [
    {
     "data": {
      "text/plain": [
       "MeetID            0\n",
       "MeetPath          0\n",
       "Federation        0\n",
       "Date              0\n",
       "MeetCountry       0\n",
       "MeetState      2986\n",
       "MeetTown       1509\n",
       "MeetName          0\n",
       "dtype: int64"
      ]
     },
     "execution_count": 10,
     "metadata": {},
     "output_type": "execute_result"
    }
   ],
   "source": [
    "data.isna().sum()"
   ]
  },
  {
   "cell_type": "code",
   "execution_count": 11,
   "id": "3241d637",
   "metadata": {},
   "outputs": [],
   "source": [
    "from sklearn.preprocessing import OneHotEncoder"
   ]
  },
  {
   "cell_type": "code",
   "execution_count": 62,
   "id": "21bb9a7f",
   "metadata": {},
   "outputs": [
    {
     "name": "stderr",
     "output_type": "stream",
     "text": [
      "C:\\Users\\micha\\AppData\\Local\\Temp\\ipykernel_18168\\24179067.py:16: FutureWarning: The frame.append method is deprecated and will be removed from pandas in a future version. Use pandas.concat instead.\n",
      "  col_encoded_df.append(col_encoded, ignore_index=True)\n"
     ]
    },
    {
     "data": {
      "text/html": [
       "<div>\n",
       "<style scoped>\n",
       "    .dataframe tbody tr th:only-of-type {\n",
       "        vertical-align: middle;\n",
       "    }\n",
       "\n",
       "    .dataframe tbody tr th {\n",
       "        vertical-align: top;\n",
       "    }\n",
       "\n",
       "    .dataframe thead th {\n",
       "        text-align: right;\n",
       "    }\n",
       "</style>\n",
       "<table border=\"1\" class=\"dataframe\">\n",
       "  <thead>\n",
       "    <tr style=\"text-align: right;\">\n",
       "      <th></th>\n",
       "      <th>MeetPath</th>\n",
       "      <th>Federation</th>\n",
       "      <th>Date</th>\n",
       "      <th>MeetCountry</th>\n",
       "      <th>MeetState</th>\n",
       "      <th>MeetTown</th>\n",
       "      <th>MeetName</th>\n",
       "    </tr>\n",
       "  </thead>\n",
       "  <tbody>\n",
       "    <tr>\n",
       "      <th>0</th>\n",
       "      <td>365strong/1601  365strong/1602  365stron...</td>\n",
       "      <td>365Strong  AAPF  AAU  ADFPA  APA  APC  A...</td>\n",
       "      <td>1974-03-02  1974-03-30  1974-04-27  1974...</td>\n",
       "      <td>Argentina  Australia  Belarus  Brazil  C...</td>\n",
       "      <td>AB  ACT  AK  AKL  AL  AR  AZ  BC  BOP  C...</td>\n",
       "      <td>Aas  Abbotsford  Aberdeen  Abernathy  Ab...</td>\n",
       "      <td>015 Pennsylvania State Bench Press and D...</td>\n",
       "    </tr>\n",
       "  </tbody>\n",
       "</table>\n",
       "</div>"
      ],
      "text/plain": [
       "                                            MeetPath  \\\n",
       "0        365strong/1601  365strong/1602  365stron...   \n",
       "\n",
       "                                          Federation  \\\n",
       "0        365Strong  AAPF  AAU  ADFPA  APA  APC  A...   \n",
       "\n",
       "                                                Date  \\\n",
       "0        1974-03-02  1974-03-30  1974-04-27  1974...   \n",
       "\n",
       "                                         MeetCountry  \\\n",
       "0        Argentina  Australia  Belarus  Brazil  C...   \n",
       "\n",
       "                                           MeetState  \\\n",
       "0        AB  ACT  AK  AKL  AL  AR  AZ  BC  BOP  C...   \n",
       "\n",
       "                                            MeetTown  \\\n",
       "0        Aas  Abbotsford  Aberdeen  Abernathy  Ab...   \n",
       "\n",
       "                                            MeetName  \n",
       "0        015 Pennsylvania State Bench Press and D...  "
      ]
     },
     "execution_count": 62,
     "metadata": {},
     "output_type": "execute_result"
    }
   ],
   "source": [
    "data_n = data\n",
    "cat = data_n.select_dtypes(include=['object'])\n",
    "\n",
    "col_names = list(cat.columns)\n",
    "col_encoded = dict()\n",
    "\n",
    "for col in col_names:\n",
    "    cat_dummies = pd.get_dummies(data_n[col])\n",
    "    col_encoded[str(col)] = cat_dummies\n"
   ]
  },
  {
   "cell_type": "code",
   "execution_count": 68,
   "id": "2766987a",
   "metadata": {},
   "outputs": [],
   "source": [
    "col_decoded = dict()\n",
    "for col in col_names:\n",
    "    cat_rev = pd.get_dummies(data_n[col]).idxmax(1)\n",
    "    col_decoded[str(col)] = cat_rev\n"
   ]
  },
  {
   "cell_type": "code",
   "execution_count": 69,
   "metadata": {},
   "outputs": [
    {
     "data": {
      "text/plain": [
       "0                  365strong/1601\n",
       "1                  365strong/1602\n",
       "2                  365strong/1603\n",
       "3                  365strong/1604\n",
       "4                  365strong/1605\n",
       "                  ...            \n",
       "8477              xpc/2015-finals\n",
       "8478    xpc/2016-bench-freak-show\n",
       "8479        xpc/2016-elite-finals\n",
       "8480          xpc/2016-pro-finals\n",
       "8481              xpc/2017-finals\n",
       "Length: 8482, dtype: object"
      ]
     },
     "execution_count": 69,
     "metadata": {},
     "output_type": "execute_result"
    }
   ],
   "source": [
    "col_decoded['MeetPath']"
   ]
  },
  {
   "cell_type": "code",
   "execution_count": 48,
   "id": "372b4bbd",
   "metadata": {},
   "outputs": [
    {
     "data": {
      "text/plain": [
       "{'MeetPath': 0                  365strong/1601\n",
       " 1                  365strong/1602\n",
       " 2                  365strong/1603\n",
       " 3                  365strong/1604\n",
       " 4                  365strong/1605\n",
       "                   ...            \n",
       " 8477              xpc/2015-finals\n",
       " 8478    xpc/2016-bench-freak-show\n",
       " 8479        xpc/2016-elite-finals\n",
       " 8480          xpc/2016-pro-finals\n",
       " 8481              xpc/2017-finals\n",
       " Length: 8482, dtype: object,\n",
       " 'Federation': 0       365Strong\n",
       " 1       365Strong\n",
       " 2       365Strong\n",
       " 3       365Strong\n",
       " 4       365Strong\n",
       "           ...    \n",
       " 8477          XPC\n",
       " 8478          XPC\n",
       " 8479          XPC\n",
       " 8480          XPC\n",
       " 8481          XPC\n",
       " Length: 8482, dtype: object,\n",
       " 'Date': 0       2016-10-29\n",
       " 1       2016-11-19\n",
       " 2       2016-07-09\n",
       " 3       2016-06-11\n",
       " 4       2016-04-10\n",
       "            ...    \n",
       " 8477    2015-03-06\n",
       " 8478    2016-03-04\n",
       " 8479    2016-03-04\n",
       " 8480    2016-03-05\n",
       " 8481    2017-03-03\n",
       " Length: 8482, dtype: object,\n",
       " 'MeetCountry': 0       USA\n",
       " 1       USA\n",
       " 2       USA\n",
       " 3       USA\n",
       " 4       USA\n",
       "        ... \n",
       " 8477    USA\n",
       " 8478    USA\n",
       " 8479    USA\n",
       " 8480    USA\n",
       " 8481    USA\n",
       " Length: 8482, dtype: object,\n",
       " 'MeetState': 0       NC\n",
       " 1       MO\n",
       " 2       NC\n",
       " 3       SC\n",
       " 4       SC\n",
       "         ..\n",
       " 8477    OH\n",
       " 8478    OH\n",
       " 8479    OH\n",
       " 8480    OH\n",
       " 8481    OH\n",
       " Length: 8482, dtype: object,\n",
       " 'MeetTown': 0       Charlotte\n",
       " 1           Ozark\n",
       " 2       Charlotte\n",
       " 3       Rock Hill\n",
       " 4       Rock Hill\n",
       "           ...    \n",
       " 8477     Columbus\n",
       " 8478     Columbus\n",
       " 8479     Columbus\n",
       " 8480     Columbus\n",
       " 8481     Columbus\n",
       " Length: 8482, dtype: object,\n",
       " 'MeetName': 0       2016 Junior & Senior National Powerlifting Cha...\n",
       " 1                       Thanksgiving Powerlifting Classic\n",
       " 2                                  Charlotte Europa Games\n",
       " 3                        Carolina Cup Push Pull Challenge\n",
       " 4                                   Eastern USA Challenge\n",
       "                               ...                        \n",
       " 8477                                             2015 XPC\n",
       " 8478                            2016 XPC Bench Freak Show\n",
       " 8479                                2016 XPC Elite Finals\n",
       " 8480                                  2016 XPC PRO Finals\n",
       " 8481                                      2017 XPC Finals\n",
       " Length: 8482, dtype: object}"
      ]
     },
     "execution_count": 48,
     "metadata": {},
     "output_type": "execute_result"
    }
   ],
   "source": [
    "col_decoded"
   ]
  },
  {
   "cell_type": "code",
   "execution_count": 26,
   "id": "52c4d625",
   "metadata": {},
   "outputs": [
    {
     "data": {
      "text/plain": [
       "0    2016 Junior & Senior National Powerlifting Cha...\n",
       "1                    Thanksgiving Powerlifting Classic\n",
       "2                               Charlotte Europa Games\n",
       "3                     Carolina Cup Push Pull Challenge\n",
       "4                                Eastern USA Challenge\n",
       "dtype: object"
      ]
     },
     "execution_count": 26,
     "metadata": {},
     "output_type": "execute_result"
    }
   ],
   "source": [
    "cat_rev = pd.get_dummies(cat_one).idxmax(1)\n",
    "cat_rev.head()"
   ]
  },
  {
   "cell_type": "code",
   "execution_count": null,
   "id": "448ad00e",
   "metadata": {},
   "outputs": [],
   "source": [
    "#creating instance of one-hot-encoder\n",
    "encoder = OneHotEncoder(handle_unknown='ignore')\n",
    "\n",
    "#perform one-hot encoding on 'team' column \n",
    "encoder_df = pd.DataFrame(encoder.fit_transform(df[['team']]).toarray())\n",
    "\n",
    "#merge one-hot encoded columns back with original DataFrame\n",
    "final_df = df.join(encoder_df)"
   ]
  },
  {
   "cell_type": "code",
   "execution_count": 1,
   "id": "4b85a444",
   "metadata": {},
   "outputs": [
    {
     "name": "stdout",
     "output_type": "stream",
     "text": [
      "Collecting plotly\n",
      "  Using cached plotly-5.6.0-py2.py3-none-any.whl (27.7 MB)\n",
      "Collecting tenacity>=6.2.0\n",
      "  Using cached tenacity-8.0.1-py3-none-any.whl (24 kB)\n",
      "Requirement already satisfied: six in c:\\users\\micha\\anaconda3\\lib\\site-packages (from plotly) (1.16.0)\n",
      "Installing collected packages: tenacity, plotly\n",
      "Successfully installed plotly-5.6.0 tenacity-8.0.1\n",
      "Note: you may need to restart the kernel to use updated packages.\n"
     ]
    }
   ],
   "source": [
    "pip install plotly"
   ]
  }
 ],
 "metadata": {
  "kernelspec": {
   "display_name": "Python 3",
   "language": "python",
   "name": "python3"
  },
  "language_info": {
   "codemirror_mode": {
    "name": "ipython",
    "version": 3
   },
   "file_extension": ".py",
   "mimetype": "text/x-python",
   "name": "python",
   "nbconvert_exporter": "python",
   "pygments_lexer": "ipython3",
   "version": "3.9.10"
  }
 },
 "nbformat": 4,
 "nbformat_minor": 5
}
