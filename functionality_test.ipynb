{
 "cells": [
  {
   "cell_type": "code",
   "execution_count": 1,
   "id": "4f672294",
   "metadata": {},
   "outputs": [],
   "source": [
    "import pandas as pd\n",
    "from knn_impute import knn_impute"
   ]
  },
  {
   "cell_type": "code",
   "execution_count": 17,
   "id": "fd54769d",
   "metadata": {},
   "outputs": [],
   "source": [
    "data = pd.read_csv(\"C:/Users/micha/OneDrive/Documents/RGU/Project/Coding/openpowerlifting.csv\")"
   ]
  },
  {
   "cell_type": "code",
   "execution_count": 1,
   "id": "dc66ddf6",
   "metadata": {},
   "outputs": [
    {
     "name": "stdout",
     "output_type": "stream",
     "text": [
      "Note: you may need to restart the kernel to use updated packages.\n"
     ]
    },
    {
     "name": "stderr",
     "output_type": "stream",
     "text": [
      "ERROR: Could not find a version that satisfies the requirement numbers (from versions: none)\n",
      "ERROR: No matching distribution found for numbers\n"
     ]
    }
   ],
   "source": [
    "pip install numbers"
   ]
  },
  {
   "cell_type": "code",
   "execution_count": 20,
   "id": "190e7df9",
   "metadata": {},
   "outputs": [
    {
     "name": "stdout",
     "output_type": "stream",
     "text": [
      "<class 'pandas.core.frame.DataFrame'>\n",
      "RangeIndex: 386414 entries, 0 to 386413\n",
      "Data columns (total 17 columns):\n",
      " #   Column          Non-Null Count   Dtype  \n",
      "---  ------          --------------   -----  \n",
      " 0   MeetID          386414 non-null  int64  \n",
      " 1   Name            386414 non-null  object \n",
      " 2   Sex             386414 non-null  object \n",
      " 3   Equipment       386414 non-null  object \n",
      " 4   Age             147147 non-null  float64\n",
      " 5   Division        370571 non-null  object \n",
      " 6   BodyweightKg    384012 non-null  float64\n",
      " 7   WeightClassKg   382602 non-null  object \n",
      " 8   Squat4Kg        1243 non-null    float64\n",
      " 9   BestSquatKg     298071 non-null  float64\n",
      " 10  Bench4Kg        1962 non-null    float64\n",
      " 11  BestBenchKg     356364 non-null  float64\n",
      " 12  Deadlift4Kg     2800 non-null    float64\n",
      " 13  BestDeadliftKg  317847 non-null  float64\n",
      " 14  TotalKg         363237 non-null  float64\n",
      " 15  Place           385322 non-null  object \n",
      " 16  Wilks           362194 non-null  float64\n",
      "dtypes: float64(10), int64(1), object(6)\n",
      "memory usage: 50.1+ MB\n"
     ]
    }
   ],
   "source": [
    "data.info()"
   ]
  },
  {
   "cell_type": "code",
   "execution_count": 23,
   "id": "e59c32e0",
   "metadata": {},
   "outputs": [
    {
     "ename": "NameError",
     "evalue": "name 'knn_impute' is not defined",
     "output_type": "error",
     "traceback": [
      "\u001b[1;31m---------------------------------------------------------------------------\u001b[0m",
      "\u001b[1;31mNameError\u001b[0m                                 Traceback (most recent call last)",
      "\u001b[1;32mc:\\Users\\micha\\OneDrive\\Documents\\RGU\\Project\\Coding\\Data-Quality-Project\\functionality_test.ipynb Cell 5'\u001b[0m in \u001b[0;36m<cell line: 1>\u001b[1;34m()\u001b[0m\n\u001b[1;32m----> <a href='vscode-notebook-cell:/c%3A/Users/micha/OneDrive/Documents/RGU/Project/Coding/Data-Quality-Project/functionality_test.ipynb#ch0000011?line=0'>1</a>\u001b[0m data[\u001b[39m'\u001b[39m\u001b[39mAge\u001b[39m\u001b[39m'\u001b[39m] \u001b[39m=\u001b[39m knn_impute(target\u001b[39m=\u001b[39mdata[\u001b[39m'\u001b[39m\u001b[39mAge\u001b[39m\u001b[39m'\u001b[39m], attributes\u001b[39m=\u001b[39mdata\u001b[39m.\u001b[39mdrop([\u001b[39m'\u001b[39m\u001b[39mAge\u001b[39m\u001b[39m'\u001b[39m], \u001b[39m1\u001b[39m),\n\u001b[0;32m      <a href='vscode-notebook-cell:/c%3A/Users/micha/OneDrive/Documents/RGU/Project/Coding/Data-Quality-Project/functionality_test.ipynb#ch0000011?line=1'>2</a>\u001b[0m                                     aggregation_method\u001b[39m=\u001b[39m\u001b[39m\"\u001b[39m\u001b[39mmedian\u001b[39m\u001b[39m\"\u001b[39m, k_neighbors\u001b[39m=\u001b[39m\u001b[39m10\u001b[39m, numeric_distance\u001b[39m=\u001b[39m\u001b[39m'\u001b[39m\u001b[39meuclidean\u001b[39m\u001b[39m'\u001b[39m,\n\u001b[0;32m      <a href='vscode-notebook-cell:/c%3A/Users/micha/OneDrive/Documents/RGU/Project/Coding/Data-Quality-Project/functionality_test.ipynb#ch0000011?line=2'>3</a>\u001b[0m                                     categorical_distance\u001b[39m=\u001b[39m\u001b[39m'\u001b[39m\u001b[39mhamming\u001b[39m\u001b[39m'\u001b[39m, missing_neighbors_threshold\u001b[39m=\u001b[39m\u001b[39m0.8\u001b[39m)\n",
      "\u001b[1;31mNameError\u001b[0m: name 'knn_impute' is not defined"
     ]
    }
   ],
   "source": [
    "data['Age'] = knn_impute(target=data['Age'], attributes=data.drop(['Age'], 1),\n",
    "                                    aggregation_method=\"median\", k_neighbors=10, numeric_distance='euclidean',\n",
    "                                    categorical_distance='hamming', missing_neighbors_threshold=0.8)"
   ]
  },
  {
   "cell_type": "code",
   "execution_count": null,
   "id": "d869476b",
   "metadata": {},
   "outputs": [],
   "source": [
    "column_list = list(data)\n",
    "column_list"
   ]
  },
  {
   "cell_type": "code",
   "execution_count": 13,
   "id": "79ef8eba",
   "metadata": {},
   "outputs": [
    {
     "data": {
      "text/html": [
       "<div>\n",
       "<style scoped>\n",
       "    .dataframe tbody tr th:only-of-type {\n",
       "        vertical-align: middle;\n",
       "    }\n",
       "\n",
       "    .dataframe tbody tr th {\n",
       "        vertical-align: top;\n",
       "    }\n",
       "\n",
       "    .dataframe thead th {\n",
       "        text-align: right;\n",
       "    }\n",
       "</style>\n",
       "<table border=\"1\" class=\"dataframe\">\n",
       "  <thead>\n",
       "    <tr style=\"text-align: right;\">\n",
       "      <th></th>\n",
       "      <th>day</th>\n",
       "      <th>temperature</th>\n",
       "      <th>humidity</th>\n",
       "      <th>uses</th>\n",
       "    </tr>\n",
       "  </thead>\n",
       "  <tbody>\n",
       "    <tr>\n",
       "      <th>count</th>\n",
       "      <td>730.000000</td>\n",
       "      <td>729.000000</td>\n",
       "      <td>729.000000</td>\n",
       "      <td>727.000000</td>\n",
       "    </tr>\n",
       "    <tr>\n",
       "      <th>mean</th>\n",
       "      <td>15.720548</td>\n",
       "      <td>20.334554</td>\n",
       "      <td>65.157874</td>\n",
       "      <td>5321.525447</td>\n",
       "    </tr>\n",
       "    <tr>\n",
       "      <th>std</th>\n",
       "      <td>8.802278</td>\n",
       "      <td>7.530907</td>\n",
       "      <td>14.768782</td>\n",
       "      <td>2279.820380</td>\n",
       "    </tr>\n",
       "    <tr>\n",
       "      <th>min</th>\n",
       "      <td>1.000000</td>\n",
       "      <td>1.820000</td>\n",
       "      <td>24.210000</td>\n",
       "      <td>35.000000</td>\n",
       "    </tr>\n",
       "    <tr>\n",
       "      <th>25%</th>\n",
       "      <td>8.000000</td>\n",
       "      <td>13.790000</td>\n",
       "      <td>54.130000</td>\n",
       "      <td>3717.500000</td>\n",
       "    </tr>\n",
       "    <tr>\n",
       "      <th>50%</th>\n",
       "      <td>16.000000</td>\n",
       "      <td>20.460000</td>\n",
       "      <td>64.900000</td>\n",
       "      <td>5370.000000</td>\n",
       "    </tr>\n",
       "    <tr>\n",
       "      <th>75%</th>\n",
       "      <td>23.000000</td>\n",
       "      <td>26.840000</td>\n",
       "      <td>75.880000</td>\n",
       "      <td>7008.000000</td>\n",
       "    </tr>\n",
       "    <tr>\n",
       "      <th>max</th>\n",
       "      <td>31.000000</td>\n",
       "      <td>35.800000</td>\n",
       "      <td>97.600000</td>\n",
       "      <td>10150.000000</td>\n",
       "    </tr>\n",
       "  </tbody>\n",
       "</table>\n",
       "</div>"
      ],
      "text/plain": [
       "              day  temperature    humidity          uses\n",
       "count  730.000000   729.000000  729.000000    727.000000\n",
       "mean    15.720548    20.334554   65.157874   5321.525447\n",
       "std      8.802278     7.530907   14.768782   2279.820380\n",
       "min      1.000000     1.820000   24.210000     35.000000\n",
       "25%      8.000000    13.790000   54.130000   3717.500000\n",
       "50%     16.000000    20.460000   64.900000   5370.000000\n",
       "75%     23.000000    26.840000   75.880000   7008.000000\n",
       "max     31.000000    35.800000   97.600000  10150.000000"
      ]
     },
     "execution_count": 13,
     "metadata": {},
     "output_type": "execute_result"
    }
   ],
   "source": [
    "summary = data.describe()\n",
    "summary"
   ]
  },
  {
   "cell_type": "code",
   "execution_count": 17,
   "id": "e2feecc0",
   "metadata": {},
   "outputs": [
    {
     "data": {
      "text/plain": [
       "dtype('int64')"
      ]
     },
     "execution_count": 17,
     "metadata": {},
     "output_type": "execute_result"
    }
   ],
   "source": [
    "data.dtypes[\"day\"]"
   ]
  },
  {
   "cell_type": "code",
   "execution_count": 14,
   "metadata": {},
   "outputs": [],
   "source": [
    "missing_values = data[\"city\"].isnull().sum()"
   ]
  },
  {
   "cell_type": "code",
   "execution_count": 16,
   "id": "3f24f118",
   "metadata": {},
   "outputs": [
    {
     "data": {
      "text/plain": [
       "730"
      ]
     },
     "execution_count": 16,
     "metadata": {},
     "output_type": "execute_result"
    }
   ],
   "source": [
    "len(data[\"city\"])"
   ]
  }
 ],
 "metadata": {
  "kernelspec": {
   "display_name": "Python 3",
   "language": "python",
   "name": "python3"
  },
  "language_info": {
   "codemirror_mode": {
    "name": "ipython",
    "version": 3
   },
   "file_extension": ".py",
   "mimetype": "text/x-python",
   "name": "python",
   "nbconvert_exporter": "python",
   "pygments_lexer": "ipython3",
   "version": "3.10.2"
  }
 },
 "nbformat": 4,
 "nbformat_minor": 5
}
