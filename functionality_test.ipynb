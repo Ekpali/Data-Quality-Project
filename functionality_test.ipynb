{
 "cells": [
  {
   "cell_type": "code",
   "execution_count": 2,
   "id": "da957065",
   "metadata": {},
   "outputs": [],
   "source": [
    "import pandas as pd\n",
    "import matplotlib.pyplot as plt\n",
    "import numpy as np"
   ]
  },
  {
   "cell_type": "code",
   "execution_count": 84,
   "id": "fd54769d",
   "metadata": {},
   "outputs": [],
   "source": [
    "data = pd.read_csv(\"C:/Users/micha/OneDrive/Documents/RGU/Project/Coding/openpowerlifting.csv\")"
   ]
  },
  {
   "cell_type": "code",
   "execution_count": 4,
   "id": "fdfb015d",
   "metadata": {},
   "outputs": [
    {
     "name": "stdout",
     "output_type": "stream",
     "text": [
      "<class 'pandas.core.frame.DataFrame'>\n",
      "RangeIndex: 386414 entries, 0 to 386413\n",
      "Data columns (total 17 columns):\n",
      " #   Column          Non-Null Count   Dtype  \n",
      "---  ------          --------------   -----  \n",
      " 0   MeetID          386414 non-null  int64  \n",
      " 1   Name            386414 non-null  object \n",
      " 2   Sex             386414 non-null  object \n",
      " 3   Equipment       386414 non-null  object \n",
      " 4   Age             147147 non-null  float64\n",
      " 5   Division        370571 non-null  object \n",
      " 6   BodyweightKg    384012 non-null  float64\n",
      " 7   WeightClassKg   382602 non-null  object \n",
      " 8   Squat4Kg        1243 non-null    float64\n",
      " 9   BestSquatKg     298071 non-null  float64\n",
      " 10  Bench4Kg        1962 non-null    float64\n",
      " 11  BestBenchKg     356364 non-null  float64\n",
      " 12  Deadlift4Kg     2800 non-null    float64\n",
      " 13  BestDeadliftKg  317847 non-null  float64\n",
      " 14  TotalKg         363237 non-null  float64\n",
      " 15  Place           385322 non-null  object \n",
      " 16  Wilks           362194 non-null  float64\n",
      "dtypes: float64(10), int64(1), object(6)\n",
      "memory usage: 50.1+ MB\n"
     ]
    }
   ],
   "source": [
    "data.info()"
   ]
  },
  {
   "cell_type": "code",
   "execution_count": 5,
   "id": "50ec077e",
   "metadata": {},
   "outputs": [
    {
     "data": {
      "text/html": [
       "<div>\n",
       "<style scoped>\n",
       "    .dataframe tbody tr th:only-of-type {\n",
       "        vertical-align: middle;\n",
       "    }\n",
       "\n",
       "    .dataframe tbody tr th {\n",
       "        vertical-align: top;\n",
       "    }\n",
       "\n",
       "    .dataframe thead th {\n",
       "        text-align: right;\n",
       "    }\n",
       "</style>\n",
       "<table border=\"1\" class=\"dataframe\">\n",
       "  <thead>\n",
       "    <tr style=\"text-align: right;\">\n",
       "      <th></th>\n",
       "      <th>MeetID</th>\n",
       "      <th>Age</th>\n",
       "      <th>BodyweightKg</th>\n",
       "      <th>Squat4Kg</th>\n",
       "      <th>BestSquatKg</th>\n",
       "      <th>Bench4Kg</th>\n",
       "      <th>BestBenchKg</th>\n",
       "      <th>Deadlift4Kg</th>\n",
       "      <th>BestDeadliftKg</th>\n",
       "      <th>TotalKg</th>\n",
       "      <th>Wilks</th>\n",
       "    </tr>\n",
       "  </thead>\n",
       "  <tbody>\n",
       "    <tr>\n",
       "      <th>count</th>\n",
       "      <td>386414.000000</td>\n",
       "      <td>147147.000000</td>\n",
       "      <td>384012.000000</td>\n",
       "      <td>1243.000000</td>\n",
       "      <td>298071.000000</td>\n",
       "      <td>1962.000000</td>\n",
       "      <td>356364.000000</td>\n",
       "      <td>2800.000000</td>\n",
       "      <td>317847.000000</td>\n",
       "      <td>363237.000000</td>\n",
       "      <td>362194.000000</td>\n",
       "    </tr>\n",
       "    <tr>\n",
       "      <th>mean</th>\n",
       "      <td>5143.015804</td>\n",
       "      <td>31.668237</td>\n",
       "      <td>86.934912</td>\n",
       "      <td>107.036404</td>\n",
       "      <td>176.569941</td>\n",
       "      <td>45.722905</td>\n",
       "      <td>118.347509</td>\n",
       "      <td>113.597193</td>\n",
       "      <td>195.040633</td>\n",
       "      <td>424.000249</td>\n",
       "      <td>301.080601</td>\n",
       "    </tr>\n",
       "    <tr>\n",
       "      <th>std</th>\n",
       "      <td>2552.099838</td>\n",
       "      <td>12.900342</td>\n",
       "      <td>23.140843</td>\n",
       "      <td>166.976620</td>\n",
       "      <td>69.222785</td>\n",
       "      <td>151.668221</td>\n",
       "      <td>54.848850</td>\n",
       "      <td>170.201657</td>\n",
       "      <td>61.580675</td>\n",
       "      <td>196.355147</td>\n",
       "      <td>116.360396</td>\n",
       "    </tr>\n",
       "    <tr>\n",
       "      <th>min</th>\n",
       "      <td>0.000000</td>\n",
       "      <td>5.000000</td>\n",
       "      <td>15.880000</td>\n",
       "      <td>-440.500000</td>\n",
       "      <td>-477.500000</td>\n",
       "      <td>-360.000000</td>\n",
       "      <td>-522.500000</td>\n",
       "      <td>-461.000000</td>\n",
       "      <td>-410.000000</td>\n",
       "      <td>11.000000</td>\n",
       "      <td>13.730000</td>\n",
       "    </tr>\n",
       "    <tr>\n",
       "      <th>25%</th>\n",
       "      <td>2979.000000</td>\n",
       "      <td>22.000000</td>\n",
       "      <td>70.300000</td>\n",
       "      <td>87.500000</td>\n",
       "      <td>127.500000</td>\n",
       "      <td>-90.000000</td>\n",
       "      <td>79.380000</td>\n",
       "      <td>110.000000</td>\n",
       "      <td>147.500000</td>\n",
       "      <td>272.160000</td>\n",
       "      <td>237.380000</td>\n",
       "    </tr>\n",
       "    <tr>\n",
       "      <th>50%</th>\n",
       "      <td>5960.000000</td>\n",
       "      <td>28.000000</td>\n",
       "      <td>83.200000</td>\n",
       "      <td>145.000000</td>\n",
       "      <td>174.630000</td>\n",
       "      <td>90.250000</td>\n",
       "      <td>115.000000</td>\n",
       "      <td>157.500000</td>\n",
       "      <td>195.000000</td>\n",
       "      <td>424.110000</td>\n",
       "      <td>319.660000</td>\n",
       "    </tr>\n",
       "    <tr>\n",
       "      <th>75%</th>\n",
       "      <td>7175.000000</td>\n",
       "      <td>39.000000</td>\n",
       "      <td>100.000000</td>\n",
       "      <td>212.500000</td>\n",
       "      <td>217.720000</td>\n",
       "      <td>167.500000</td>\n",
       "      <td>150.000000</td>\n",
       "      <td>219.990000</td>\n",
       "      <td>238.140000</td>\n",
       "      <td>565.000000</td>\n",
       "      <td>379.290000</td>\n",
       "    </tr>\n",
       "    <tr>\n",
       "      <th>max</th>\n",
       "      <td>8481.000000</td>\n",
       "      <td>95.000000</td>\n",
       "      <td>242.400000</td>\n",
       "      <td>450.000000</td>\n",
       "      <td>573.790000</td>\n",
       "      <td>378.750000</td>\n",
       "      <td>488.500000</td>\n",
       "      <td>418.000000</td>\n",
       "      <td>460.400000</td>\n",
       "      <td>1365.310000</td>\n",
       "      <td>779.380000</td>\n",
       "    </tr>\n",
       "  </tbody>\n",
       "</table>\n",
       "</div>"
      ],
      "text/plain": [
       "              MeetID            Age   BodyweightKg     Squat4Kg  \\\n",
       "count  386414.000000  147147.000000  384012.000000  1243.000000   \n",
       "mean     5143.015804      31.668237      86.934912   107.036404   \n",
       "std      2552.099838      12.900342      23.140843   166.976620   \n",
       "min         0.000000       5.000000      15.880000  -440.500000   \n",
       "25%      2979.000000      22.000000      70.300000    87.500000   \n",
       "50%      5960.000000      28.000000      83.200000   145.000000   \n",
       "75%      7175.000000      39.000000     100.000000   212.500000   \n",
       "max      8481.000000      95.000000     242.400000   450.000000   \n",
       "\n",
       "         BestSquatKg     Bench4Kg    BestBenchKg  Deadlift4Kg  BestDeadliftKg  \\\n",
       "count  298071.000000  1962.000000  356364.000000  2800.000000   317847.000000   \n",
       "mean      176.569941    45.722905     118.347509   113.597193      195.040633   \n",
       "std        69.222785   151.668221      54.848850   170.201657       61.580675   \n",
       "min      -477.500000  -360.000000    -522.500000  -461.000000     -410.000000   \n",
       "25%       127.500000   -90.000000      79.380000   110.000000      147.500000   \n",
       "50%       174.630000    90.250000     115.000000   157.500000      195.000000   \n",
       "75%       217.720000   167.500000     150.000000   219.990000      238.140000   \n",
       "max       573.790000   378.750000     488.500000   418.000000      460.400000   \n",
       "\n",
       "             TotalKg          Wilks  \n",
       "count  363237.000000  362194.000000  \n",
       "mean      424.000249     301.080601  \n",
       "std       196.355147     116.360396  \n",
       "min        11.000000      13.730000  \n",
       "25%       272.160000     237.380000  \n",
       "50%       424.110000     319.660000  \n",
       "75%       565.000000     379.290000  \n",
       "max      1365.310000     779.380000  "
      ]
     },
     "execution_count": 5,
     "metadata": {},
     "output_type": "execute_result"
    }
   ],
   "source": [
    "data.describe()"
   ]
  },
  {
   "cell_type": "code",
   "execution_count": 61,
   "id": "d4c7d0bf",
   "metadata": {},
   "outputs": [],
   "source": [
    "data_sample = data.select_dtypes(include=[np.number])"
   ]
  },
  {
   "cell_type": "code",
   "execution_count": 75,
   "id": "7f98ec4c",
   "metadata": {},
   "outputs": [
    {
     "ename": "KeyError",
     "evalue": "\"['MeetID'] not found in axis\"",
     "output_type": "error",
     "traceback": [
      "\u001b[1;31m---------------------------------------------------------------------------\u001b[0m",
      "\u001b[1;31mKeyError\u001b[0m                                  Traceback (most recent call last)",
      "\u001b[1;32m~\\AppData\\Local\\Temp/ipykernel_28192/4079369057.py\u001b[0m in \u001b[0;36m<module>\u001b[1;34m\u001b[0m\n\u001b[1;32m----> 1\u001b[1;33m \u001b[0mdata_sample\u001b[0m\u001b[1;33m.\u001b[0m\u001b[0mdrop\u001b[0m\u001b[1;33m(\u001b[0m\u001b[0mcolumns\u001b[0m\u001b[1;33m=\u001b[0m\u001b[1;33m[\u001b[0m\u001b[1;34m'MeetID'\u001b[0m\u001b[1;33m]\u001b[0m\u001b[1;33m,\u001b[0m \u001b[0maxis\u001b[0m\u001b[1;33m=\u001b[0m\u001b[1;36m1\u001b[0m\u001b[1;33m,\u001b[0m \u001b[0minplace\u001b[0m\u001b[1;33m=\u001b[0m\u001b[1;32mTrue\u001b[0m\u001b[1;33m)\u001b[0m\u001b[1;33m\u001b[0m\u001b[1;33m\u001b[0m\u001b[0m\n\u001b[0m",
      "\u001b[1;32m~\\anaconda3\\lib\\site-packages\\pandas\\util\\_decorators.py\u001b[0m in \u001b[0;36mwrapper\u001b[1;34m(*args, **kwargs)\u001b[0m\n\u001b[0;32m    309\u001b[0m                     \u001b[0mstacklevel\u001b[0m\u001b[1;33m=\u001b[0m\u001b[0mstacklevel\u001b[0m\u001b[1;33m,\u001b[0m\u001b[1;33m\u001b[0m\u001b[1;33m\u001b[0m\u001b[0m\n\u001b[0;32m    310\u001b[0m                 )\n\u001b[1;32m--> 311\u001b[1;33m             \u001b[1;32mreturn\u001b[0m \u001b[0mfunc\u001b[0m\u001b[1;33m(\u001b[0m\u001b[1;33m*\u001b[0m\u001b[0margs\u001b[0m\u001b[1;33m,\u001b[0m \u001b[1;33m**\u001b[0m\u001b[0mkwargs\u001b[0m\u001b[1;33m)\u001b[0m\u001b[1;33m\u001b[0m\u001b[1;33m\u001b[0m\u001b[0m\n\u001b[0m\u001b[0;32m    312\u001b[0m \u001b[1;33m\u001b[0m\u001b[0m\n\u001b[0;32m    313\u001b[0m         \u001b[1;32mreturn\u001b[0m \u001b[0mwrapper\u001b[0m\u001b[1;33m\u001b[0m\u001b[1;33m\u001b[0m\u001b[0m\n",
      "\u001b[1;32m~\\anaconda3\\lib\\site-packages\\pandas\\core\\frame.py\u001b[0m in \u001b[0;36mdrop\u001b[1;34m(self, labels, axis, index, columns, level, inplace, errors)\u001b[0m\n\u001b[0;32m   4904\u001b[0m                 \u001b[0mweight\u001b[0m  \u001b[1;36m1.0\u001b[0m     \u001b[1;36m0.8\u001b[0m\u001b[1;33m\u001b[0m\u001b[1;33m\u001b[0m\u001b[0m\n\u001b[0;32m   4905\u001b[0m         \"\"\"\n\u001b[1;32m-> 4906\u001b[1;33m         return super().drop(\n\u001b[0m\u001b[0;32m   4907\u001b[0m             \u001b[0mlabels\u001b[0m\u001b[1;33m=\u001b[0m\u001b[0mlabels\u001b[0m\u001b[1;33m,\u001b[0m\u001b[1;33m\u001b[0m\u001b[1;33m\u001b[0m\u001b[0m\n\u001b[0;32m   4908\u001b[0m             \u001b[0maxis\u001b[0m\u001b[1;33m=\u001b[0m\u001b[0maxis\u001b[0m\u001b[1;33m,\u001b[0m\u001b[1;33m\u001b[0m\u001b[1;33m\u001b[0m\u001b[0m\n",
      "\u001b[1;32m~\\anaconda3\\lib\\site-packages\\pandas\\core\\generic.py\u001b[0m in \u001b[0;36mdrop\u001b[1;34m(self, labels, axis, index, columns, level, inplace, errors)\u001b[0m\n\u001b[0;32m   4148\u001b[0m         \u001b[1;32mfor\u001b[0m \u001b[0maxis\u001b[0m\u001b[1;33m,\u001b[0m \u001b[0mlabels\u001b[0m \u001b[1;32min\u001b[0m \u001b[0maxes\u001b[0m\u001b[1;33m.\u001b[0m\u001b[0mitems\u001b[0m\u001b[1;33m(\u001b[0m\u001b[1;33m)\u001b[0m\u001b[1;33m:\u001b[0m\u001b[1;33m\u001b[0m\u001b[1;33m\u001b[0m\u001b[0m\n\u001b[0;32m   4149\u001b[0m             \u001b[1;32mif\u001b[0m \u001b[0mlabels\u001b[0m \u001b[1;32mis\u001b[0m \u001b[1;32mnot\u001b[0m \u001b[1;32mNone\u001b[0m\u001b[1;33m:\u001b[0m\u001b[1;33m\u001b[0m\u001b[1;33m\u001b[0m\u001b[0m\n\u001b[1;32m-> 4150\u001b[1;33m                 \u001b[0mobj\u001b[0m \u001b[1;33m=\u001b[0m \u001b[0mobj\u001b[0m\u001b[1;33m.\u001b[0m\u001b[0m_drop_axis\u001b[0m\u001b[1;33m(\u001b[0m\u001b[0mlabels\u001b[0m\u001b[1;33m,\u001b[0m \u001b[0maxis\u001b[0m\u001b[1;33m,\u001b[0m \u001b[0mlevel\u001b[0m\u001b[1;33m=\u001b[0m\u001b[0mlevel\u001b[0m\u001b[1;33m,\u001b[0m \u001b[0merrors\u001b[0m\u001b[1;33m=\u001b[0m\u001b[0merrors\u001b[0m\u001b[1;33m)\u001b[0m\u001b[1;33m\u001b[0m\u001b[1;33m\u001b[0m\u001b[0m\n\u001b[0m\u001b[0;32m   4151\u001b[0m \u001b[1;33m\u001b[0m\u001b[0m\n\u001b[0;32m   4152\u001b[0m         \u001b[1;32mif\u001b[0m \u001b[0minplace\u001b[0m\u001b[1;33m:\u001b[0m\u001b[1;33m\u001b[0m\u001b[1;33m\u001b[0m\u001b[0m\n",
      "\u001b[1;32m~\\anaconda3\\lib\\site-packages\\pandas\\core\\generic.py\u001b[0m in \u001b[0;36m_drop_axis\u001b[1;34m(self, labels, axis, level, errors)\u001b[0m\n\u001b[0;32m   4183\u001b[0m                 \u001b[0mnew_axis\u001b[0m \u001b[1;33m=\u001b[0m \u001b[0maxis\u001b[0m\u001b[1;33m.\u001b[0m\u001b[0mdrop\u001b[0m\u001b[1;33m(\u001b[0m\u001b[0mlabels\u001b[0m\u001b[1;33m,\u001b[0m \u001b[0mlevel\u001b[0m\u001b[1;33m=\u001b[0m\u001b[0mlevel\u001b[0m\u001b[1;33m,\u001b[0m \u001b[0merrors\u001b[0m\u001b[1;33m=\u001b[0m\u001b[0merrors\u001b[0m\u001b[1;33m)\u001b[0m\u001b[1;33m\u001b[0m\u001b[1;33m\u001b[0m\u001b[0m\n\u001b[0;32m   4184\u001b[0m             \u001b[1;32melse\u001b[0m\u001b[1;33m:\u001b[0m\u001b[1;33m\u001b[0m\u001b[1;33m\u001b[0m\u001b[0m\n\u001b[1;32m-> 4185\u001b[1;33m                 \u001b[0mnew_axis\u001b[0m \u001b[1;33m=\u001b[0m \u001b[0maxis\u001b[0m\u001b[1;33m.\u001b[0m\u001b[0mdrop\u001b[0m\u001b[1;33m(\u001b[0m\u001b[0mlabels\u001b[0m\u001b[1;33m,\u001b[0m \u001b[0merrors\u001b[0m\u001b[1;33m=\u001b[0m\u001b[0merrors\u001b[0m\u001b[1;33m)\u001b[0m\u001b[1;33m\u001b[0m\u001b[1;33m\u001b[0m\u001b[0m\n\u001b[0m\u001b[0;32m   4186\u001b[0m             \u001b[0mresult\u001b[0m \u001b[1;33m=\u001b[0m \u001b[0mself\u001b[0m\u001b[1;33m.\u001b[0m\u001b[0mreindex\u001b[0m\u001b[1;33m(\u001b[0m\u001b[1;33m**\u001b[0m\u001b[1;33m{\u001b[0m\u001b[0maxis_name\u001b[0m\u001b[1;33m:\u001b[0m \u001b[0mnew_axis\u001b[0m\u001b[1;33m}\u001b[0m\u001b[1;33m)\u001b[0m\u001b[1;33m\u001b[0m\u001b[1;33m\u001b[0m\u001b[0m\n\u001b[0;32m   4187\u001b[0m \u001b[1;33m\u001b[0m\u001b[0m\n",
      "\u001b[1;32m~\\anaconda3\\lib\\site-packages\\pandas\\core\\indexes\\base.py\u001b[0m in \u001b[0;36mdrop\u001b[1;34m(self, labels, errors)\u001b[0m\n\u001b[0;32m   6015\u001b[0m         \u001b[1;32mif\u001b[0m \u001b[0mmask\u001b[0m\u001b[1;33m.\u001b[0m\u001b[0many\u001b[0m\u001b[1;33m(\u001b[0m\u001b[1;33m)\u001b[0m\u001b[1;33m:\u001b[0m\u001b[1;33m\u001b[0m\u001b[1;33m\u001b[0m\u001b[0m\n\u001b[0;32m   6016\u001b[0m             \u001b[1;32mif\u001b[0m \u001b[0merrors\u001b[0m \u001b[1;33m!=\u001b[0m \u001b[1;34m\"ignore\"\u001b[0m\u001b[1;33m:\u001b[0m\u001b[1;33m\u001b[0m\u001b[1;33m\u001b[0m\u001b[0m\n\u001b[1;32m-> 6017\u001b[1;33m                 \u001b[1;32mraise\u001b[0m \u001b[0mKeyError\u001b[0m\u001b[1;33m(\u001b[0m\u001b[1;34mf\"{labels[mask]} not found in axis\"\u001b[0m\u001b[1;33m)\u001b[0m\u001b[1;33m\u001b[0m\u001b[1;33m\u001b[0m\u001b[0m\n\u001b[0m\u001b[0;32m   6018\u001b[0m             \u001b[0mindexer\u001b[0m \u001b[1;33m=\u001b[0m \u001b[0mindexer\u001b[0m\u001b[1;33m[\u001b[0m\u001b[1;33m~\u001b[0m\u001b[0mmask\u001b[0m\u001b[1;33m]\u001b[0m\u001b[1;33m\u001b[0m\u001b[1;33m\u001b[0m\u001b[0m\n\u001b[0;32m   6019\u001b[0m         \u001b[1;32mreturn\u001b[0m \u001b[0mself\u001b[0m\u001b[1;33m.\u001b[0m\u001b[0mdelete\u001b[0m\u001b[1;33m(\u001b[0m\u001b[0mindexer\u001b[0m\u001b[1;33m)\u001b[0m\u001b[1;33m\u001b[0m\u001b[1;33m\u001b[0m\u001b[0m\n",
      "\u001b[1;31mKeyError\u001b[0m: \"['MeetID'] not found in axis\""
     ]
    }
   ],
   "source": [
    "data_sample.drop(columns=['MeetID'], axis=1, inplace=True)"
   ]
  },
  {
   "cell_type": "code",
   "execution_count": 76,
   "id": "06b621f0",
   "metadata": {},
   "outputs": [
    {
     "name": "stderr",
     "output_type": "stream",
     "text": [
      "C:\\Users\\micha\\anaconda3\\lib\\site-packages\\pandas\\util\\_decorators.py:311: SettingWithCopyWarning: \n",
      "A value is trying to be set on a copy of a slice from a DataFrame\n",
      "\n",
      "See the caveats in the documentation: https://pandas.pydata.org/pandas-docs/stable/user_guide/indexing.html#returning-a-view-versus-a-copy\n",
      "  return func(*args, **kwargs)\n"
     ]
    }
   ],
   "source": [
    "data_sample.dropna(axis=0, inplace=True)"
   ]
  },
  {
   "cell_type": "code",
   "execution_count": 77,
   "id": "bb115a73",
   "metadata": {},
   "outputs": [
    {
     "data": {
      "image/png": "[encoded data removed]",
      "text/plain": [
       "<Figure size 864x432 with 1 Axes>"
      ]
     },
     "metadata": {
      "needs_background": "light"
     },
     "output_type": "display_data"
    }
   ],
   "source": [
    "fig, ax = plt.subplots(figsize=(12,6))\n",
    "ax.boxplot(data_sample )\n",
    "ax.set_title('Outliers')\n",
    "ax.set_xticks(range(1, len(data_sample.columns)+1))\n",
    "ax.set_xticklabels(list(data_sample.columns))\n",
    "plt.show()"
   ]
  },
  {
   "cell_type": "code",
   "execution_count": 85,
   "id": "1024c2b0",
   "metadata": {},
   "outputs": [
    {
     "data": {
      "text/html": [
       "<div>\n",
       "<style scoped>\n",
       "    .dataframe tbody tr th:only-of-type {\n",
       "        vertical-align: middle;\n",
       "    }\n",
       "\n",
       "    .dataframe tbody tr th {\n",
       "        vertical-align: top;\n",
       "    }\n",
       "\n",
       "    .dataframe thead th {\n",
       "        text-align: right;\n",
       "    }\n",
       "</style>\n",
       "<table border=\"1\" class=\"dataframe\">\n",
       "  <thead>\n",
       "    <tr style=\"text-align: right;\">\n",
       "      <th></th>\n",
       "      <th>MeetID</th>\n",
       "      <th>Name</th>\n",
       "      <th>Sex</th>\n",
       "      <th>Equipment</th>\n",
       "      <th>Age</th>\n",
       "      <th>Division</th>\n",
       "      <th>BodyweightKg</th>\n",
       "      <th>WeightClassKg</th>\n",
       "      <th>Squat4Kg</th>\n",
       "      <th>BestSquatKg</th>\n",
       "      <th>Bench4Kg</th>\n",
       "      <th>BestBenchKg</th>\n",
       "      <th>Deadlift4Kg</th>\n",
       "      <th>BestDeadliftKg</th>\n",
       "      <th>TotalKg</th>\n",
       "      <th>Place</th>\n",
       "      <th>Wilks</th>\n",
       "    </tr>\n",
       "  </thead>\n",
       "  <tbody>\n",
       "    <tr>\n",
       "      <th>164</th>\n",
       "      <td>2</td>\n",
       "      <td>Jeremy Seff</td>\n",
       "      <td>M</td>\n",
       "      <td>Raw</td>\n",
       "      <td>25.0</td>\n",
       "      <td>M-OBR-T</td>\n",
       "      <td>66.09</td>\n",
       "      <td>67.5</td>\n",
       "      <td>NaN</td>\n",
       "      <td>NaN</td>\n",
       "      <td>NaN</td>\n",
       "      <td>161.03</td>\n",
       "      <td>NaN</td>\n",
       "      <td>NaN</td>\n",
       "      <td>161.03</td>\n",
       "      <td>2</td>\n",
       "      <td>126.30</td>\n",
       "    </tr>\n",
       "    <tr>\n",
       "      <th>169</th>\n",
       "      <td>2</td>\n",
       "      <td>Kejajuan Collington</td>\n",
       "      <td>M</td>\n",
       "      <td>Raw</td>\n",
       "      <td>32.0</td>\n",
       "      <td>M-OBR-T</td>\n",
       "      <td>66.63</td>\n",
       "      <td>67.5</td>\n",
       "      <td>NaN</td>\n",
       "      <td>NaN</td>\n",
       "      <td>NaN</td>\n",
       "      <td>170.10</td>\n",
       "      <td>NaN</td>\n",
       "      <td>NaN</td>\n",
       "      <td>170.10</td>\n",
       "      <td>1</td>\n",
       "      <td>132.53</td>\n",
       "    </tr>\n",
       "    <tr>\n",
       "      <th>171</th>\n",
       "      <td>2</td>\n",
       "      <td>Bryan Glynn</td>\n",
       "      <td>M</td>\n",
       "      <td>Raw</td>\n",
       "      <td>24.0</td>\n",
       "      <td>M-NBR-X</td>\n",
       "      <td>81.65</td>\n",
       "      <td>82.5</td>\n",
       "      <td>NaN</td>\n",
       "      <td>NaN</td>\n",
       "      <td>NaN</td>\n",
       "      <td>149.69</td>\n",
       "      <td>NaN</td>\n",
       "      <td>NaN</td>\n",
       "      <td>149.69</td>\n",
       "      <td>1</td>\n",
       "      <td>100.91</td>\n",
       "    </tr>\n",
       "    <tr>\n",
       "      <th>172</th>\n",
       "      <td>2</td>\n",
       "      <td>Hannah Cochran</td>\n",
       "      <td>F</td>\n",
       "      <td>Raw</td>\n",
       "      <td>28.0</td>\n",
       "      <td>F-NBR-X</td>\n",
       "      <td>72.94</td>\n",
       "      <td>75</td>\n",
       "      <td>NaN</td>\n",
       "      <td>NaN</td>\n",
       "      <td>NaN</td>\n",
       "      <td>54.43</td>\n",
       "      <td>NaN</td>\n",
       "      <td>NaN</td>\n",
       "      <td>54.43</td>\n",
       "      <td>1</td>\n",
       "      <td>52.67</td>\n",
       "    </tr>\n",
       "    <tr>\n",
       "      <th>217</th>\n",
       "      <td>2</td>\n",
       "      <td>Clark Bobo</td>\n",
       "      <td>M</td>\n",
       "      <td>Raw</td>\n",
       "      <td>27.0</td>\n",
       "      <td>M-OBR-U</td>\n",
       "      <td>122.33</td>\n",
       "      <td>125</td>\n",
       "      <td>NaN</td>\n",
       "      <td>NaN</td>\n",
       "      <td>NaN</td>\n",
       "      <td>222.26</td>\n",
       "      <td>NaN</td>\n",
       "      <td>NaN</td>\n",
       "      <td>222.26</td>\n",
       "      <td>1</td>\n",
       "      <td>127.23</td>\n",
       "    </tr>\n",
       "    <tr>\n",
       "      <th>...</th>\n",
       "      <td>...</td>\n",
       "      <td>...</td>\n",
       "      <td>...</td>\n",
       "      <td>...</td>\n",
       "      <td>...</td>\n",
       "      <td>...</td>\n",
       "      <td>...</td>\n",
       "      <td>...</td>\n",
       "      <td>...</td>\n",
       "      <td>...</td>\n",
       "      <td>...</td>\n",
       "      <td>...</td>\n",
       "      <td>...</td>\n",
       "      <td>...</td>\n",
       "      <td>...</td>\n",
       "      <td>...</td>\n",
       "      <td>...</td>\n",
       "    </tr>\n",
       "    <tr>\n",
       "      <th>382913</th>\n",
       "      <td>8447</td>\n",
       "      <td>Stanislav Mun</td>\n",
       "      <td>M</td>\n",
       "      <td>Raw</td>\n",
       "      <td>48.0</td>\n",
       "      <td>Master 40-49</td>\n",
       "      <td>74.20</td>\n",
       "      <td>75</td>\n",
       "      <td>NaN</td>\n",
       "      <td>NaN</td>\n",
       "      <td>NaN</td>\n",
       "      <td>NaN</td>\n",
       "      <td>NaN</td>\n",
       "      <td>NaN</td>\n",
       "      <td>NaN</td>\n",
       "      <td>DQ</td>\n",
       "      <td>NaN</td>\n",
       "    </tr>\n",
       "    <tr>\n",
       "      <th>384302</th>\n",
       "      <td>8459</td>\n",
       "      <td>Vyacheslav Bondarev</td>\n",
       "      <td>M</td>\n",
       "      <td>Raw</td>\n",
       "      <td>49.0</td>\n",
       "      <td>Masters 40-49</td>\n",
       "      <td>88.70</td>\n",
       "      <td>90</td>\n",
       "      <td>NaN</td>\n",
       "      <td>180.0</td>\n",
       "      <td>NaN</td>\n",
       "      <td>155.00</td>\n",
       "      <td>NaN</td>\n",
       "      <td>220.0</td>\n",
       "      <td>555.00</td>\n",
       "      <td>1</td>\n",
       "      <td>356.98</td>\n",
       "    </tr>\n",
       "    <tr>\n",
       "      <th>384781</th>\n",
       "      <td>8459</td>\n",
       "      <td>Yuriy Murzin</td>\n",
       "      <td>M</td>\n",
       "      <td>Raw</td>\n",
       "      <td>17.0</td>\n",
       "      <td>Teenage 17-19</td>\n",
       "      <td>59.80</td>\n",
       "      <td>60</td>\n",
       "      <td>NaN</td>\n",
       "      <td>NaN</td>\n",
       "      <td>NaN</td>\n",
       "      <td>120.00</td>\n",
       "      <td>NaN</td>\n",
       "      <td>NaN</td>\n",
       "      <td>120.00</td>\n",
       "      <td>1</td>\n",
       "      <td>102.66</td>\n",
       "    </tr>\n",
       "    <tr>\n",
       "      <th>385030</th>\n",
       "      <td>8459</td>\n",
       "      <td>Nikolay Kavkaev</td>\n",
       "      <td>M</td>\n",
       "      <td>Raw</td>\n",
       "      <td>24.0</td>\n",
       "      <td>Open</td>\n",
       "      <td>72.10</td>\n",
       "      <td>75</td>\n",
       "      <td>NaN</td>\n",
       "      <td>NaN</td>\n",
       "      <td>NaN</td>\n",
       "      <td>NaN</td>\n",
       "      <td>NaN</td>\n",
       "      <td>NaN</td>\n",
       "      <td>NaN</td>\n",
       "      <td>DQ</td>\n",
       "      <td>NaN</td>\n",
       "    </tr>\n",
       "    <tr>\n",
       "      <th>385066</th>\n",
       "      <td>8459</td>\n",
       "      <td>Aleksandr Klepalchenko</td>\n",
       "      <td>M</td>\n",
       "      <td>Raw</td>\n",
       "      <td>73.0</td>\n",
       "      <td>Masters 70-79</td>\n",
       "      <td>95.80</td>\n",
       "      <td>100</td>\n",
       "      <td>NaN</td>\n",
       "      <td>NaN</td>\n",
       "      <td>NaN</td>\n",
       "      <td>NaN</td>\n",
       "      <td>NaN</td>\n",
       "      <td>155.0</td>\n",
       "      <td>155.00</td>\n",
       "      <td>1</td>\n",
       "      <td>96.05</td>\n",
       "    </tr>\n",
       "  </tbody>\n",
       "</table>\n",
       "<p>545 rows × 17 columns</p>\n",
       "</div>"
      ],
      "text/plain": [
       "        MeetID                    Name Sex Equipment   Age       Division  \\\n",
       "164          2             Jeremy Seff   M       Raw  25.0        M-OBR-T   \n",
       "169          2     Kejajuan Collington   M       Raw  32.0        M-OBR-T   \n",
       "171          2             Bryan Glynn   M       Raw  24.0        M-NBR-X   \n",
       "172          2          Hannah Cochran   F       Raw  28.0        F-NBR-X   \n",
       "217          2              Clark Bobo   M       Raw  27.0        M-OBR-U   \n",
       "...        ...                     ...  ..       ...   ...            ...   \n",
       "382913    8447           Stanislav Mun   M       Raw  48.0   Master 40-49   \n",
       "384302    8459     Vyacheslav Bondarev   M       Raw  49.0  Masters 40-49   \n",
       "384781    8459            Yuriy Murzin   M       Raw  17.0  Teenage 17-19   \n",
       "385030    8459         Nikolay Kavkaev   M       Raw  24.0           Open   \n",
       "385066    8459  Aleksandr Klepalchenko   M       Raw  73.0  Masters 70-79   \n",
       "\n",
       "        BodyweightKg WeightClassKg  Squat4Kg  BestSquatKg  Bench4Kg  \\\n",
       "164            66.09          67.5       NaN          NaN       NaN   \n",
       "169            66.63          67.5       NaN          NaN       NaN   \n",
       "171            81.65          82.5       NaN          NaN       NaN   \n",
       "172            72.94            75       NaN          NaN       NaN   \n",
       "217           122.33           125       NaN          NaN       NaN   \n",
       "...              ...           ...       ...          ...       ...   \n",
       "382913         74.20            75       NaN          NaN       NaN   \n",
       "384302         88.70            90       NaN        180.0       NaN   \n",
       "384781         59.80            60       NaN          NaN       NaN   \n",
       "385030         72.10            75       NaN          NaN       NaN   \n",
       "385066         95.80           100       NaN          NaN       NaN   \n",
       "\n",
       "        BestBenchKg  Deadlift4Kg  BestDeadliftKg  TotalKg Place   Wilks  \n",
       "164          161.03          NaN             NaN   161.03     2  126.30  \n",
       "169          170.10          NaN             NaN   170.10     1  132.53  \n",
       "171          149.69          NaN             NaN   149.69     1  100.91  \n",
       "172           54.43          NaN             NaN    54.43     1   52.67  \n",
       "217          222.26          NaN             NaN   222.26     1  127.23  \n",
       "...             ...          ...             ...      ...   ...     ...  \n",
       "382913          NaN          NaN             NaN      NaN    DQ     NaN  \n",
       "384302       155.00          NaN           220.0   555.00     1  356.98  \n",
       "384781       120.00          NaN             NaN   120.00     1  102.66  \n",
       "385030          NaN          NaN             NaN      NaN    DQ     NaN  \n",
       "385066          NaN          NaN           155.0   155.00     1   96.05  \n",
       "\n",
       "[545 rows x 17 columns]"
      ]
     },
     "execution_count": 85,
     "metadata": {},
     "output_type": "execute_result"
    }
   ],
   "source": [
    "data[data.duplicated()]"
   ]
  },
  {
   "cell_type": "markdown",
   "id": "8c8f3c98",
   "metadata": {},
   "source": [
    "Fish escapes\n"
   ]
  },
  {
   "cell_type": "code",
   "execution_count": 206,
   "id": "0e75686c",
   "metadata": {},
   "outputs": [],
   "source": [
    "df = pd.read_csv(\"C:/Users/micha/OneDrive/Documents/RGU/Project/Coding/range.csv\")"
   ]
  },
  {
   "cell_type": "code",
   "execution_count": 126,
   "id": "4d1d0b50",
   "metadata": {},
   "outputs": [],
   "source": [
    "df = df.convert_dtypes(infer_objects=True)"
   ]
  },
  {
   "cell_type": "code",
   "execution_count": 205,
   "id": "8432d1c4",
   "metadata": {},
   "outputs": [],
   "source": [
    "def range_mean(row):\n",
    "    row = str(row)\n",
    "    if row.index('-') > 0:\n",
    "        num_before = \"\"\n",
    "        num_after = \"\"\n",
    "        dash_idx = row.index('-')\n",
    "        for n in row[0:dash_idx]:\n",
    "            if n.isdigit():\n",
    "                num_before = num_before + n\n",
    "        for n in row[dash_idx:len(row)]:\n",
    "            if n.isdigit():\n",
    "                num_after = num_after + n\n",
    "        return np.average([int(num_before), int(num_after)])\n",
    "    else:\n",
    "        return(row)"
   ]
  },
  {
   "cell_type": "code",
   "execution_count": null,
   "metadata": {},
   "outputs": [],
   "source": [
    "df['Ranges']"
   ]
  },
  {
   "cell_type": "code",
   "execution_count": 207,
   "id": "69c81b7a",
   "metadata": {},
   "outputs": [],
   "source": [
    "df['Ranges'] = df['Ranges'].apply(range_mean)"
   ]
  },
  {
   "cell_type": "code",
   "execution_count": 208,
   "id": "cb00fee6",
   "metadata": {},
   "outputs": [
    {
     "data": {
      "text/html": [
       "<div>\n",
       "<style scoped>\n",
       "    .dataframe tbody tr th:only-of-type {\n",
       "        vertical-align: middle;\n",
       "    }\n",
       "\n",
       "    .dataframe tbody tr th {\n",
       "        vertical-align: top;\n",
       "    }\n",
       "\n",
       "    .dataframe thead th {\n",
       "        text-align: right;\n",
       "    }\n",
       "</style>\n",
       "<table border=\"1\" class=\"dataframe\">\n",
       "  <thead>\n",
       "    <tr style=\"text-align: right;\">\n",
       "      <th></th>\n",
       "      <th>S/N</th>\n",
       "      <th>Ranges</th>\n",
       "    </tr>\n",
       "  </thead>\n",
       "  <tbody>\n",
       "    <tr>\n",
       "      <th>0</th>\n",
       "      <td>1</td>\n",
       "      <td>150.0</td>\n",
       "    </tr>\n",
       "    <tr>\n",
       "      <th>1</th>\n",
       "      <td>2</td>\n",
       "      <td>250.5</td>\n",
       "    </tr>\n",
       "    <tr>\n",
       "      <th>2</th>\n",
       "      <td>3</td>\n",
       "      <td>350.5</td>\n",
       "    </tr>\n",
       "    <tr>\n",
       "      <th>3</th>\n",
       "      <td>4</td>\n",
       "      <td>450.5</td>\n",
       "    </tr>\n",
       "    <tr>\n",
       "      <th>4</th>\n",
       "      <td>5</td>\n",
       "      <td>150.5</td>\n",
       "    </tr>\n",
       "  </tbody>\n",
       "</table>\n",
       "</div>"
      ],
      "text/plain": [
       "   S/N  Ranges\n",
       "0    1   150.0\n",
       "1    2   250.5\n",
       "2    3   350.5\n",
       "3    4   450.5\n",
       "4    5   150.5"
      ]
     },
     "execution_count": 208,
     "metadata": {},
     "output_type": "execute_result"
    }
   ],
   "source": [
    "df.head()"
   ]
  },
  {
   "cell_type": "markdown",
   "id": "1f258118",
   "metadata": {},
   "source": [
    "Data Types"
   ]
  },
  {
   "cell_type": "code",
   "execution_count": null,
   "id": "3f24f118",
   "metadata": {},
   "outputs": [],
   "source": [
    "check = list(data_s['day'].map(type).unique())\n",
    "print('datatype is ' + str(check))\n",
    "print(check.apply(type))"
   ]
  },
  {
   "cell_type": "code",
   "execution_count": null,
   "id": "8530e4f6",
   "metadata": {},
   "outputs": [],
   "source": [
    "data_s['day'].map(type)"
   ]
  },
  {
   "cell_type": "code",
   "execution_count": null,
   "id": "06d93885",
   "metadata": {},
   "outputs": [],
   "source": [
    "a = []\n",
    "\n",
    "for element in list(data_s['day']):\n",
    "\n",
    "    if isinstance(element, int):\n",
    "        a.append('int')\n",
    "\n",
    "a"
   ]
  },
  {
   "cell_type": "code",
   "execution_count": null,
   "id": "65b1d76d",
   "metadata": {},
   "outputs": [],
   "source": [
    "data.info()"
   ]
  },
  {
   "cell_type": "code",
   "execution_count": null,
   "id": "69719355",
   "metadata": {},
   "outputs": [],
   "source": [
    "data.isna().sum()"
   ]
  },
  {
   "cell_type": "code",
   "execution_count": null,
   "id": "3241d637",
   "metadata": {},
   "outputs": [],
   "source": [
    "from sklearn.preprocessing import OneHotEncoder"
   ]
  },
  {
   "cell_type": "code",
   "execution_count": null,
   "id": "21bb9a7f",
   "metadata": {},
   "outputs": [],
   "source": [
    "data_n = data\n",
    "cat = data_n.select_dtypes(include=['object'])\n",
    "\n",
    "col_names = list(cat.columns)\n",
    "col_encoded = dict()\n",
    "\n",
    "for col in col_names:\n",
    "    cat_dummies = pd.get_dummies(data_n[col])\n",
    "    col_encoded[str(col)] = cat_dummies\n"
   ]
  },
  {
   "cell_type": "code",
   "execution_count": null,
   "id": "2766987a",
   "metadata": {},
   "outputs": [],
   "source": [
    "col_decoded = dict()\n",
    "for col in col_names:\n",
    "    cat_rev = pd.get_dummies(data_n[col]).idxmax(1)\n",
    "    col_decoded[str(col)] = cat_rev\n"
   ]
  },
  {
   "cell_type": "code",
   "execution_count": null,
   "metadata": {},
   "outputs": [],
   "source": [
    "col_decoded['MeetPath']"
   ]
  },
  {
   "cell_type": "code",
   "execution_count": null,
   "id": "372b4bbd",
   "metadata": {},
   "outputs": [],
   "source": [
    "col_decoded"
   ]
  },
  {
   "cell_type": "code",
   "execution_count": null,
   "id": "52c4d625",
   "metadata": {},
   "outputs": [],
   "source": [
    "cat_rev = pd.get_dummies(cat_one).idxmax(1)\n",
    "cat_rev.head()"
   ]
  },
  {
   "cell_type": "code",
   "execution_count": null,
   "id": "448ad00e",
   "metadata": {},
   "outputs": [],
   "source": [
    "#creating instance of one-hot-encoder\n",
    "encoder = OneHotEncoder(handle_unknown='ignore')\n",
    "\n",
    "#perform one-hot encoding on 'team' column \n",
    "encoder_df = pd.DataFrame(encoder.fit_transform(df[['team']]).toarray())\n",
    "\n",
    "#merge one-hot encoded columns back with original DataFrame\n",
    "final_df = df.join(encoder_df)"
   ]
  },
  {
   "cell_type": "markdown",
   "id": "344ed485",
   "metadata": {},
   "source": [
    "Anomaly Detection With PyCaret"
   ]
  },
  {
   "cell_type": "code",
   "execution_count": null,
   "id": "ba33fbae",
   "metadata": {},
   "outputs": [],
   "source": [
    "pip install pycaret --user"
   ]
  },
  {
   "cell_type": "code",
   "execution_count": null,
   "id": "8be768b0",
   "metadata": {},
   "outputs": [],
   "source": [
    "pip install pyod"
   ]
  },
  {
   "cell_type": "code",
   "execution_count": null,
   "id": "9d0e9d0b",
   "metadata": {},
   "outputs": [],
   "source": [
    "pip install numpy==1.21 --user"
   ]
  },
  {
   "cell_type": "code",
   "execution_count": null,
   "id": "e093ccc5",
   "metadata": {},
   "outputs": [],
   "source": [
    "#from pycaret.datasets import get_data\n",
    "import matplotlib.pyplot as plt\n",
    "import seaborn as sns\n",
    "import pandas as pd\n",
    "import numpy as np\n",
    "import plotly.express as px"
   ]
  },
  {
   "cell_type": "code",
   "execution_count": null,
   "id": "1de8064a",
   "metadata": {},
   "outputs": [],
   "source": [
    "from pycaret.anomaly import *"
   ]
  },
  {
   "cell_type": "code",
   "execution_count": null,
   "id": "e32e1b18",
   "metadata": {},
   "outputs": [],
   "source": [
    "pip install pyod"
   ]
  },
  {
   "cell_type": "code",
   "execution_count": null,
   "id": "7ccb4778",
   "metadata": {},
   "outputs": [],
   "source": [
    "data = pd.read_csv('ride4U.csv')\n",
    "data_num = data.select_dtypes(include=['int64', 'float64']).dropna()"
   ]
  },
  {
   "cell_type": "code",
   "execution_count": null,
   "id": "517be8e0",
   "metadata": {},
   "outputs": [],
   "source": [
    "setup = setup(data_num, session_id = 123)"
   ]
  },
  {
   "cell_type": "code",
   "execution_count": null,
   "id": "dc6388df",
   "metadata": {},
   "outputs": [],
   "source": [
    "iforest = create_model('iforest')\n",
    "print(iforest)"
   ]
  },
  {
   "cell_type": "code",
   "execution_count": null,
   "id": "d80d4adb",
   "metadata": {},
   "outputs": [],
   "source": [
    "iforest_results = assign_model(iforest)\n",
    "iforest_results.head()"
   ]
  },
  {
   "cell_type": "code",
   "execution_count": null,
   "id": "15399090",
   "metadata": {},
   "outputs": [],
   "source": [
    "iforest_anomaly=iforest_results[iforest_results['Anomaly']==1]\n",
    "iforest_anomaly.shape"
   ]
  },
  {
   "cell_type": "code",
   "execution_count": null,
   "id": "ca01695e",
   "metadata": {},
   "outputs": [],
   "source": [
    "from yellowbrick.features import Manifold\n",
    "dfr = iforest_results['Anomaly']\n",
    "viz = Manifold(manifold=\"tsne\")\n",
    "viz.fit_transform(data_num, dfr)\n",
    "viz.show()"
   ]
  },
  {
   "cell_type": "code",
   "execution_count": null,
   "id": "99cdb795",
   "metadata": {},
   "outputs": [],
   "source": [
    "plot_model(iforest)"
   ]
  },
  {
   "cell_type": "code",
   "execution_count": null,
   "id": "d5f5558e",
   "metadata": {},
   "outputs": [],
   "source": [
    "sns.pairplot(iforest_results, hue='Anomaly')"
   ]
  },
  {
   "cell_type": "code",
   "execution_count": null,
   "id": "d6729dac",
   "metadata": {},
   "outputs": [],
   "source": [
    "px.scatter_matrix(\n",
    "    data_frame=iforest_results,\n",
    "    dimensions = list(data_num.columns),\n",
    "    color=\"Anomaly\",\n",
    "    title=\"Scatter matrix for TOEFL Score, GRE Score, and CGPA conditioning on Research variable\",\n",
    ")"
   ]
  },
  {
   "cell_type": "markdown",
   "id": "045e4a63",
   "metadata": {},
   "source": [
    "Clustering"
   ]
  },
  {
   "cell_type": "code",
   "execution_count": null,
   "id": "7fc78b28",
   "metadata": {},
   "outputs": [],
   "source": [
    "import pandas as pd\n",
    "import numpy as np\n",
    "import matplotlib.pyplot as plt\n",
    "import seaborn as sns\n",
    "\n",
    "from sklearn.cluster import KMeans\n",
    "from sklearn.preprocessing import StandardScaler, normalize\n",
    "from sklearn.metrics import silhouette_score\n",
    "\n"
   ]
  },
  {
   "cell_type": "code",
   "execution_count": null,
   "id": "8fdf6066",
   "metadata": {},
   "outputs": [],
   "source": [
    "scaler = StandardScaler()\n",
    "df = scaler.fit_transform(data_num)\n",
    "\n",
    "\n",
    "clus_range = [2,3,4,5,6,7,8,9,10]\n",
    "inertias = []"
   ]
  },
  {
   "cell_type": "code",
   "execution_count": null,
   "id": "7d129bcf",
   "metadata": {},
   "outputs": [],
   "source": [
    "for c in clus_range:\n",
    "    kmeans = KMeans(init=\"k-means++\", n_clusters=c, n_init=100, random_state=0).fit(df)\n",
    "    inertias.append(kmeans.inertia_)\n",
    "\n",
    "plt.figure()\n",
    "plt.plot(clus_range,inertias, marker ='o')"
   ]
  },
  {
   "cell_type": "code",
   "execution_count": null,
   "id": "e221d84f",
   "metadata": {},
   "outputs": [],
   "source": [
    "kmeans_sel = KMeans(init=\"k-means++\", n_clusters=3, n_init=100, random_state=123).fit(df)\n",
    "labels = pd.DataFrame(kmeans_sel.labels_)\n",
    "clust_df = data_num.assign(Cluster=labels)"
   ]
  },
  {
   "cell_type": "code",
   "execution_count": null,
   "id": "d08e9063",
   "metadata": {},
   "outputs": [],
   "source": [
    "fte_colors = {0: \"#008fd5\",\n",
    "     1: \"#fc4f30\"}\n",
    "\n",
    "\n",
    "km_colors = [fte_colors[label] for label in kmeans.labels_]\n",
    "plt.scatter(df[:, 0], df[:, 1], c=km_colors)"
   ]
  },
  {
   "cell_type": "code",
   "execution_count": null,
   "id": "21eda2af",
   "metadata": {},
   "outputs": [],
   "source": [
    "pip install phik"
   ]
  }
 ],
 "metadata": {
  "kernelspec": {
   "display_name": "Python 3",
   "language": "python",
   "name": "python3"
  },
  "language_info": {
   "codemirror_mode": {
    "name": "ipython",
    "version": 3
   },
   "file_extension": ".py",
   "mimetype": "text/x-python",
   "name": "python",
   "nbconvert_exporter": "python",
   "pygments_lexer": "ipython3",
   "version": "3.9.7"
  }
 },
 "nbformat": 4,
 "nbformat_minor": 5
}
