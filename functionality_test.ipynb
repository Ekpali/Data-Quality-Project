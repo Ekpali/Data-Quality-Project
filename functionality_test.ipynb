{
 "cells": [
  {
   "cell_type": "code",
   "execution_count": 2,
   "id": "da957065",
   "metadata": {},
   "outputs": [],
   "source": [
    "import pandas as pd\n",
    "import matplotlib.pyplot as plt"
   ]
  },
  {
   "cell_type": "code",
   "execution_count": 3,
   "id": "fd54769d",
   "metadata": {},
   "outputs": [],
   "source": [
    "data = pd.read_csv(\"C:/Users/micha/OneDrive/Documents/RGU/Project/Coding/powerlift_sample.csv\")"
   ]
  },
  {
   "cell_type": "code",
   "execution_count": 4,
   "id": "50ec077e",
   "metadata": {},
   "outputs": [
    {
     "name": "stdout",
     "output_type": "stream",
     "text": [
      "<class 'pandas.core.frame.DataFrame'>\n",
      "RangeIndex: 10000 entries, 0 to 9999\n",
      "Data columns (total 17 columns):\n",
      " #   Column          Non-Null Count  Dtype  \n",
      "---  ------          --------------  -----  \n",
      " 0   MeetID          10000 non-null  int64  \n",
      " 1   Name            10000 non-null  object \n",
      " 2   Sex             10000 non-null  object \n",
      " 3   Equipment       10000 non-null  object \n",
      " 4   Age             8277 non-null   float64\n",
      " 5   Division        9711 non-null   object \n",
      " 6   BodyweightKg    9938 non-null   float64\n",
      " 7   WeightClassKg   9901 non-null   object \n",
      " 8   Squat4Kg        150 non-null    float64\n",
      " 9   BestSquatKg     6418 non-null   float64\n",
      " 10  Bench4Kg        262 non-null    float64\n",
      " 11  BestBenchKg     8725 non-null   float64\n",
      " 12  Deadlift4Kg     283 non-null    float64\n",
      " 13  BestDeadliftKg  7550 non-null   float64\n",
      " 14  TotalKg         9478 non-null   float64\n",
      " 15  Place           9980 non-null   object \n",
      " 16  Wilks           9444 non-null   float64\n",
      "dtypes: float64(10), int64(1), object(6)\n",
      "memory usage: 1.3+ MB\n"
     ]
    }
   ],
   "source": [
    "data.info()"
   ]
  },
  {
   "cell_type": "markdown",
   "id": "1f258118",
   "metadata": {},
   "source": [
    "Data Types"
   ]
  },
  {
   "cell_type": "code",
   "execution_count": null,
   "id": "3f24f118",
   "metadata": {},
   "outputs": [],
   "source": [
    "check = list(data_s['day'].map(type).unique())\n",
    "print('datatype is ' + str(check))\n",
    "print(check.apply(type))"
   ]
  },
  {
   "cell_type": "code",
   "execution_count": null,
   "id": "8530e4f6",
   "metadata": {},
   "outputs": [],
   "source": [
    "data_s['day'].map(type)"
   ]
  },
  {
   "cell_type": "code",
   "execution_count": null,
   "id": "06d93885",
   "metadata": {},
   "outputs": [],
   "source": [
    "a = []\n",
    "\n",
    "for element in list(data_s['day']):\n",
    "\n",
    "    if isinstance(element, int):\n",
    "        a.append('int')\n",
    "\n",
    "a"
   ]
  },
  {
   "cell_type": "code",
   "execution_count": null,
   "id": "65b1d76d",
   "metadata": {},
   "outputs": [],
   "source": [
    "data.info()"
   ]
  },
  {
   "cell_type": "code",
   "execution_count": null,
   "id": "69719355",
   "metadata": {},
   "outputs": [],
   "source": [
    "data.isna().sum()"
   ]
  },
  {
   "cell_type": "code",
   "execution_count": null,
   "id": "3241d637",
   "metadata": {},
   "outputs": [],
   "source": [
    "from sklearn.preprocessing import OneHotEncoder"
   ]
  },
  {
   "cell_type": "code",
   "execution_count": null,
   "id": "21bb9a7f",
   "metadata": {},
   "outputs": [],
   "source": [
    "data_n = data\n",
    "cat = data_n.select_dtypes(include=['object'])\n",
    "\n",
    "col_names = list(cat.columns)\n",
    "col_encoded = dict()\n",
    "\n",
    "for col in col_names:\n",
    "    cat_dummies = pd.get_dummies(data_n[col])\n",
    "    col_encoded[str(col)] = cat_dummies\n"
   ]
  },
  {
   "cell_type": "code",
   "execution_count": null,
   "id": "2766987a",
   "metadata": {},
   "outputs": [],
   "source": [
    "col_decoded = dict()\n",
    "for col in col_names:\n",
    "    cat_rev = pd.get_dummies(data_n[col]).idxmax(1)\n",
    "    col_decoded[str(col)] = cat_rev\n"
   ]
  },
  {
   "cell_type": "code",
   "execution_count": null,
   "metadata": {},
   "outputs": [],
   "source": [
    "col_decoded['MeetPath']"
   ]
  },
  {
   "cell_type": "code",
   "execution_count": null,
   "id": "372b4bbd",
   "metadata": {},
   "outputs": [],
   "source": [
    "col_decoded"
   ]
  },
  {
   "cell_type": "code",
   "execution_count": null,
   "id": "52c4d625",
   "metadata": {},
   "outputs": [],
   "source": [
    "cat_rev = pd.get_dummies(cat_one).idxmax(1)\n",
    "cat_rev.head()"
   ]
  },
  {
   "cell_type": "code",
   "execution_count": null,
   "id": "448ad00e",
   "metadata": {},
   "outputs": [],
   "source": [
    "#creating instance of one-hot-encoder\n",
    "encoder = OneHotEncoder(handle_unknown='ignore')\n",
    "\n",
    "#perform one-hot encoding on 'team' column \n",
    "encoder_df = pd.DataFrame(encoder.fit_transform(df[['team']]).toarray())\n",
    "\n",
    "#merge one-hot encoded columns back with original DataFrame\n",
    "final_df = df.join(encoder_df)"
   ]
  },
  {
   "cell_type": "markdown",
   "id": "344ed485",
   "metadata": {},
   "source": [
    "Anomaly Detection With PyCaret"
   ]
  },
  {
   "cell_type": "code",
   "execution_count": null,
   "id": "ba33fbae",
   "metadata": {},
   "outputs": [],
   "source": [
    "pip install pycaret --user"
   ]
  },
  {
   "cell_type": "code",
   "execution_count": null,
   "id": "8be768b0",
   "metadata": {},
   "outputs": [],
   "source": [
    "pip install pyod"
   ]
  },
  {
   "cell_type": "code",
   "execution_count": null,
   "id": "9d0e9d0b",
   "metadata": {},
   "outputs": [],
   "source": [
    "pip install numpy==1.21 --user"
   ]
  },
  {
   "cell_type": "code",
   "execution_count": null,
   "id": "e093ccc5",
   "metadata": {},
   "outputs": [],
   "source": [
    "#from pycaret.datasets import get_data\n",
    "import matplotlib.pyplot as plt\n",
    "import seaborn as sns\n",
    "import pandas as pd\n",
    "import numpy as np\n",
    "import plotly.express as px"
   ]
  },
  {
   "cell_type": "code",
   "execution_count": null,
   "id": "1de8064a",
   "metadata": {},
   "outputs": [],
   "source": [
    "from pycaret.anomaly import *"
   ]
  },
  {
   "cell_type": "code",
   "execution_count": null,
   "id": "e32e1b18",
   "metadata": {},
   "outputs": [],
   "source": [
    "pip install pyod"
   ]
  },
  {
   "cell_type": "code",
   "execution_count": null,
   "id": "7ccb4778",
   "metadata": {},
   "outputs": [],
   "source": [
    "data = pd.read_csv('ride4U.csv')\n",
    "data_num = data.select_dtypes(include=['int64', 'float64']).dropna()"
   ]
  },
  {
   "cell_type": "code",
   "execution_count": null,
   "id": "517be8e0",
   "metadata": {},
   "outputs": [],
   "source": [
    "setup = setup(data_num, session_id = 123)"
   ]
  },
  {
   "cell_type": "code",
   "execution_count": null,
   "id": "dc6388df",
   "metadata": {},
   "outputs": [],
   "source": [
    "iforest = create_model('iforest')\n",
    "print(iforest)"
   ]
  },
  {
   "cell_type": "code",
   "execution_count": null,
   "id": "d80d4adb",
   "metadata": {},
   "outputs": [],
   "source": [
    "iforest_results = assign_model(iforest)\n",
    "iforest_results.head()"
   ]
  },
  {
   "cell_type": "code",
   "execution_count": null,
   "id": "15399090",
   "metadata": {},
   "outputs": [],
   "source": [
    "iforest_anomaly=iforest_results[iforest_results['Anomaly']==1]\n",
    "iforest_anomaly.shape"
   ]
  },
  {
   "cell_type": "code",
   "execution_count": null,
   "id": "ca01695e",
   "metadata": {},
   "outputs": [],
   "source": [
    "from yellowbrick.features import Manifold\n",
    "dfr = iforest_results['Anomaly']\n",
    "viz = Manifold(manifold=\"tsne\")\n",
    "viz.fit_transform(data_num, dfr)\n",
    "viz.show()"
   ]
  },
  {
   "cell_type": "code",
   "execution_count": null,
   "id": "99cdb795",
   "metadata": {},
   "outputs": [],
   "source": [
    "plot_model(iforest)"
   ]
  },
  {
   "cell_type": "code",
   "execution_count": null,
   "id": "d5f5558e",
   "metadata": {},
   "outputs": [],
   "source": [
    "sns.pairplot(iforest_results, hue='Anomaly')"
   ]
  },
  {
   "cell_type": "code",
   "execution_count": null,
   "id": "d6729dac",
   "metadata": {},
   "outputs": [],
   "source": [
    "px.scatter_matrix(\n",
    "    data_frame=iforest_results,\n",
    "    dimensions = list(data_num.columns),\n",
    "    color=\"Anomaly\",\n",
    "    title=\"Scatter matrix for TOEFL Score, GRE Score, and CGPA conditioning on Research variable\",\n",
    ")"
   ]
  },
  {
   "cell_type": "markdown",
   "id": "045e4a63",
   "metadata": {},
   "source": [
    "Clustering"
   ]
  },
  {
   "cell_type": "code",
   "execution_count": null,
   "id": "7fc78b28",
   "metadata": {},
   "outputs": [],
   "source": [
    "import pandas as pd\n",
    "import numpy as np\n",
    "import matplotlib.pyplot as plt\n",
    "import seaborn as sns\n",
    "\n",
    "from sklearn.cluster import KMeans\n",
    "from sklearn.preprocessing import StandardScaler, normalize\n",
    "from sklearn.metrics import silhouette_score\n",
    "\n"
   ]
  },
  {
   "cell_type": "code",
   "execution_count": null,
   "id": "8fdf6066",
   "metadata": {},
   "outputs": [],
   "source": [
    "scaler = StandardScaler()\n",
    "df = scaler.fit_transform(data_num)\n",
    "\n",
    "\n",
    "clus_range = [2,3,4,5,6,7,8,9,10]\n",
    "inertias = []"
   ]
  },
  {
   "cell_type": "code",
   "execution_count": null,
   "id": "7d129bcf",
   "metadata": {},
   "outputs": [],
   "source": [
    "for c in clus_range:\n",
    "    kmeans = KMeans(init=\"k-means++\", n_clusters=c, n_init=100, random_state=0).fit(df)\n",
    "    inertias.append(kmeans.inertia_)\n",
    "\n",
    "plt.figure()\n",
    "plt.plot(clus_range,inertias, marker ='o')"
   ]
  },
  {
   "cell_type": "code",
   "execution_count": null,
   "id": "e221d84f",
   "metadata": {},
   "outputs": [],
   "source": [
    "kmeans_sel = KMeans(init=\"k-means++\", n_clusters=3, n_init=100, random_state=123).fit(df)\n",
    "labels = pd.DataFrame(kmeans_sel.labels_)\n",
    "clust_df = data_num.assign(Cluster=labels)"
   ]
  },
  {
   "cell_type": "code",
   "execution_count": null,
   "id": "d08e9063",
   "metadata": {},
   "outputs": [],
   "source": [
    "fte_colors = {0: \"#008fd5\",\n",
    "     1: \"#fc4f30\"}\n",
    "\n",
    "\n",
    "km_colors = [fte_colors[label] for label in kmeans.labels_]\n",
    "plt.scatter(df[:, 0], df[:, 1], c=km_colors)"
   ]
  },
  {
   "cell_type": "code",
   "execution_count": null,
   "id": "21eda2af",
   "metadata": {},
   "outputs": [],
   "source": [
    "pip install phik"
   ]
  }
 ],
 "metadata": {
  "kernelspec": {
   "display_name": "Python 3",
   "language": "python",
   "name": "python3"
  },
  "language_info": {
   "codemirror_mode": {
    "name": "ipython",
    "version": 3
   },
   "file_extension": ".py",
   "mimetype": "text/x-python",
   "name": "python",
   "nbconvert_exporter": "python",
   "pygments_lexer": "ipython3",
   "version": "3.9.7"
  }
 },
 "nbformat": 4,
 "nbformat_minor": 5
}
